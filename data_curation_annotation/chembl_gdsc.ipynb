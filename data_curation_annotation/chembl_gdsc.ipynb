{
 "cells": [
  {
   "cell_type": "code",
   "execution_count": null,
   "id": "44f86fd4-067a-4bd6-9ee5-0b1d0544ad11",
   "metadata": {},
   "outputs": [],
   "source": [
    "# pip install chembl_webresource_client"
   ]
  },
  {
   "cell_type": "code",
   "execution_count": 67,
   "id": "ca26b6ed-94e8-45a3-b247-62362be3bda3",
   "metadata": {},
   "outputs": [
    {
     "name": "stdout",
     "output_type": "stream",
     "text": [
      "Collecting tabulate\n",
      "  Downloading tabulate-0.9.0-py3-none-any.whl (35 kB)\n",
      "Installing collected packages: tabulate\n",
      "Successfully installed tabulate-0.9.0\n",
      "Note: you may need to restart the kernel to use updated packages.\n"
     ]
    }
   ],
   "source": [
    "pip install tabulate"
   ]
  },
  {
   "cell_type": "markdown",
   "id": "e8898ce9-1097-4b04-ad54-fe1ece9d6f1c",
   "metadata": {},
   "source": [
    "## Import packages\n",
    "The chembl_webresource package should contain the tools to obtain the chEMBL IDs and mechanisms."
   ]
  },
  {
   "cell_type": "code",
   "execution_count": 68,
   "id": "7229a42b-7163-4af3-9dae-0afa6b64b79d",
   "metadata": {},
   "outputs": [],
   "source": [
    "from chembl_webresource_client.new_client import new_client\n",
    "import pandas as pd\n",
    "import numpy as np\n",
    "import tabulate"
   ]
  },
  {
   "cell_type": "markdown",
   "id": "6d2502d1-9241-41b5-aff1-a64cfa442be8",
   "metadata": {},
   "source": [
    "#### Load the list of drugs"
   ]
  },
  {
   "cell_type": "code",
   "execution_count": 3,
   "id": "36a104d3-92f6-458e-ae51-5cbe5bbac7cc",
   "metadata": {},
   "outputs": [],
   "source": [
    "druglist_all = pd.read_csv(\"data/drug_info_GDSC2.csv\")"
   ]
  },
  {
   "cell_type": "code",
   "execution_count": 90,
   "id": "50dd2e4d-c084-49b6-9ea4-6b58ecc2502a",
   "metadata": {},
   "outputs": [],
   "source": [
    "# list_2 = druglist_all[\"synonyms\"].tolist()\n",
    "# list_2 = [item for sublist in list_2 for item in sublist.split(',')]\n",
    "# list_2 = [item for item in list_2 if item != '-']\n"
   ]
  },
  {
   "cell_type": "code",
   "execution_count": 93,
   "id": "46bd5964-ca34-4628-918f-bafa2b768a92",
   "metadata": {},
   "outputs": [],
   "source": [
    "druglist_all['all_names'] = druglist_all['drug_name'] + ', ' + druglist_all['synonyms']"
   ]
  },
  {
   "cell_type": "code",
   "execution_count": 151,
   "id": "e388324d-32c0-4a70-848e-19f87078aa52",
   "metadata": {},
   "outputs": [
    {
     "name": "stdout",
     "output_type": "stream",
     "text": [
      "     drug_id        all_names\n",
      "0       1834           743380\n",
      "1       1834                -\n",
      "2       2011      ICL-SIRT078\n",
      "3       2011                -\n",
      "4       2038          UNC0638\n",
      "..       ...              ...\n",
      "864     1911         Cosmegen\n",
      "865     1911           Lyovac\n",
      "866     1911   Meractinomycin\n",
      "867     1911            Ac-De\n",
      "868     1911             ActD\n",
      "\n",
      "[869 rows x 2 columns]\n"
     ]
    }
   ],
   "source": [
    "# Split the strings in col3 and create new rows\n",
    "new_rows = []\n",
    "for index, row in druglist_all.iterrows():\n",
    "    elements = row['all_names'].split(',')\n",
    "    for element in elements:\n",
    "        new_rows.append([row['drug_id'],  element])\n",
    "\n",
    "# Create a new DataFrame with the new rows\n",
    "new_df = pd.DataFrame(new_rows, columns=['drug_id', 'all_names'])\n",
    "\n",
    "print(new_df)\n",
    "pd.DataFrame.to_csv(new_df,'output/syn-id_gdsc.csv')"
   ]
  },
  {
   "cell_type": "code",
   "execution_count": 108,
   "id": "9e5f8c8d-dbd2-4553-8acc-b81ea2c62a38",
   "metadata": {},
   "outputs": [],
   "source": [
    "list_1 = new_df[\"all_names\"].tolist()"
   ]
  },
  {
   "cell_type": "markdown",
   "id": "abfa894a-e1d2-40a6-85e0-39ede99151cc",
   "metadata": {},
   "source": [
    "#### chEMBL IDs retrival\n",
    "**1st round**, the chembl using the 'names' as 'upper case' they appear in the PRISM database, lookig all synonyms and oprefered names."
   ]
  },
  {
   "cell_type": "code",
   "execution_count": 110,
   "id": "f13e4700-8924-4d1d-a4d2-b3b879b9be9c",
   "metadata": {},
   "outputs": [],
   "source": [
    "n_chemb1 = {}"
   ]
  },
  {
   "cell_type": "code",
   "execution_count": 111,
   "id": "8cde31f5-782b-4f77-837d-40d4a11f83af",
   "metadata": {},
   "outputs": [],
   "source": [
    "for i in list_1:\n",
    "    molecule = new_client.molecule\n",
    "    mols1 = molecule.filter(pref_name = i.upper()).only('molecule_chembl_id')\n",
    "    mols2 = molecule.filter(molecule_synonyms__molecule_synonym = i.upper()).only('molecule_chembl_id')\n",
    "    mols3 = molecule.filter(molecule_synonyms__synonyms = i.upper()).only('molecule_chembl_id')\n",
    "    if len(mols1) > 0:\n",
    "        n_chemb1.update({i : mols1[0][\"molecule_chembl_id\"]})\n",
    "    elif len(mols2) > 0:\n",
    "        n_chemb1.update({i : mols2[0][\"molecule_chembl_id\"]})\n",
    "    elif len(mols3) > 0:\n",
    "        n_chemb1.update({i : mols3[0][\"molecule_chembl_id\"]})\n",
    "    else:\n",
    "        n_chemb1.update({i : \":(\"})"
   ]
  },
  {
   "cell_type": "code",
   "execution_count": 112,
   "id": "1fc82fbe-5c95-4edd-a29e-cd1d6573af62",
   "metadata": {},
   "outputs": [],
   "source": [
    "def my_filtering_function(pair):\n",
    "    unwanted_value = ':('\n",
    "    key, value = pair\n",
    "    if value != unwanted_value:\n",
    "        return False  # filter pair out of the dictionary\n",
    "    else:\n",
    "        return True  # keep pair in the filtered dictionary"
   ]
  },
  {
   "cell_type": "code",
   "execution_count": 113,
   "id": "3322163d-c803-4150-b529-61999dffad3a",
   "metadata": {},
   "outputs": [],
   "source": [
    "filtered_chembl1 = dict(filter(my_filtering_function, n_chemb1.items()))"
   ]
  },
  {
   "cell_type": "code",
   "execution_count": 114,
   "id": "60f576d1-2c2d-4aed-8bfe-f476ba0ba07b",
   "metadata": {},
   "outputs": [],
   "source": [
    "filtered_list1 = list(filtered_chembl1.keys())"
   ]
  },
  {
   "cell_type": "code",
   "execution_count": 133,
   "id": "7d95449d-d55b-43e0-a1d8-2159e6219c33",
   "metadata": {},
   "outputs": [
    {
     "data": {
      "text/plain": [
       "619"
      ]
     },
     "execution_count": 133,
     "metadata": {},
     "output_type": "execute_result"
    }
   ],
   "source": [
    "len(filtered_list1)"
   ]
  },
  {
   "cell_type": "markdown",
   "id": "2e9d9450-9037-48e2-b66f-d6f94b185f0d",
   "metadata": {},
   "source": [
    "**2nd round:** Same but with the original names without transfoming to upper"
   ]
  },
  {
   "cell_type": "code",
   "execution_count": 119,
   "id": "246f6312-3240-4a72-9190-fa1a2df00db0",
   "metadata": {},
   "outputs": [],
   "source": [
    "n_chemb2 = {}"
   ]
  },
  {
   "cell_type": "code",
   "execution_count": 120,
   "id": "b186974a-a33d-47e7-9d3e-631ac2b7b01c",
   "metadata": {},
   "outputs": [],
   "source": [
    "for i in filtered_list1:\n",
    "    molecule = new_client.molecule\n",
    "    mols1 = molecule.filter(pref_name = i).only('molecule_chembl_id')\n",
    "    mols2 = molecule.filter(molecule_synonyms__molecule_synonym = i).only('molecule_chembl_id')\n",
    "    mols3 = molecule.filter(molecule_synonyms__synonyms = i).only('molecule_chembl_id')\n",
    "    if len(mols1) > 0:\n",
    "        n_chemb2.update({i : mols1[0][\"molecule_chembl_id\"]})\n",
    "    elif len(mols2) > 0:\n",
    "        n_chemb2.update({i : mols2[0][\"molecule_chembl_id\"]})\n",
    "    elif len(mols3) > 0:\n",
    "        n_chemb2.update({i : mols3[0][\"molecule_chembl_id\"]})\n",
    "    else:\n",
    "        n_chemb2.update({i : \":(\"})"
   ]
  },
  {
   "cell_type": "code",
   "execution_count": 121,
   "id": "90caa5a0-0216-457c-833a-4343323e660f",
   "metadata": {},
   "outputs": [],
   "source": [
    "filtered_chembl2 = dict(filter(my_filtering_function, n_chemb2.items()))"
   ]
  },
  {
   "cell_type": "code",
   "execution_count": 122,
   "id": "f168542e-b47b-4ddc-9b73-8a4bf5b112e0",
   "metadata": {},
   "outputs": [],
   "source": [
    "filtered_list2 = list(filtered_chembl2.keys())"
   ]
  },
  {
   "cell_type": "code",
   "execution_count": 123,
   "id": "4a45de52-7088-45f9-8467-cfbf7c375a0f",
   "metadata": {},
   "outputs": [
    {
     "data": {
      "text/plain": [
       "618"
      ]
     },
     "execution_count": 123,
     "metadata": {},
     "output_type": "execute_result"
    }
   ],
   "source": [
    "len(filtered_list2)"
   ]
  },
  {
   "cell_type": "markdown",
   "id": "e36084e2-1fca-4301-871e-9db75546b73f",
   "metadata": {},
   "source": [
    "**Round 3**: change presence of  '-'  character"
   ]
  },
  {
   "cell_type": "code",
   "execution_count": 124,
   "id": "b7aedc46-f5ee-4eba-8997-d105710fd9f9",
   "metadata": {},
   "outputs": [],
   "source": [
    "n_chemb3 = {}"
   ]
  },
  {
   "cell_type": "code",
   "execution_count": 125,
   "id": "3bc6200f-67bc-4e22-b85d-556f6de01900",
   "metadata": {},
   "outputs": [],
   "source": [
    "for i in filtered_list2:\n",
    "    molecule = new_client.molecule\n",
    "    mols1 = molecule.filter(pref_name = i.replace('-', ' ').upper()).only('molecule_chembl_id')\n",
    "    mols2 = molecule.filter(molecule_synonyms__molecule_synonym = i.replace('-', ' ').upper()).only('molecule_chembl_id')\n",
    "    mols3 = molecule.filter(molecule_synonyms__synonyms = i.replace('-', ' ').upper()).only('molecule_chembl_id')\n",
    "    if len(mols1) > 0:\n",
    "        n_chemb3.update({i : mols1[0][\"molecule_chembl_id\"]})\n",
    "    elif len(mols2) > 0:\n",
    "        n_chemb3.update({i : mols2[0][\"molecule_chembl_id\"]})\n",
    "    elif len(mols3) > 0:\n",
    "        n_chemb3.update({i : mols3[0][\"molecule_chembl_id\"]})\n",
    "    else:\n",
    "        n_chemb3.update({i : \":(\"})"
   ]
  },
  {
   "cell_type": "code",
   "execution_count": 126,
   "id": "dc7be089-a431-4f57-bdfd-e9e88767c7da",
   "metadata": {},
   "outputs": [],
   "source": [
    "filtered_chembl3 = dict(filter(my_filtering_function, n_chemb3.items()))"
   ]
  },
  {
   "cell_type": "code",
   "execution_count": 127,
   "id": "7bfe2d9b-f8ea-4b10-99f8-a8fdaf4b15f9",
   "metadata": {},
   "outputs": [],
   "source": [
    "filtered_list3 = list(filtered_chembl3.keys())"
   ]
  },
  {
   "cell_type": "code",
   "execution_count": 129,
   "id": "a7a50809-c8d3-4a2c-be37-03ad45eb39f6",
   "metadata": {},
   "outputs": [
    {
     "data": {
      "text/plain": [
       "618"
      ]
     },
     "execution_count": 129,
     "metadata": {},
     "output_type": "execute_result"
    }
   ],
   "source": [
    "len(filtered_list3)"
   ]
  },
  {
   "cell_type": "markdown",
   "id": "ee1a3fe8-dbed-4adc-a07d-bb5882b3118d",
   "metadata": {},
   "source": [
    "**Round 4**: change and add uppercases at the beginning"
   ]
  },
  {
   "cell_type": "code",
   "execution_count": 130,
   "id": "871217be-09cb-44ea-9a64-6a18668614bb",
   "metadata": {},
   "outputs": [],
   "source": [
    "n_chemb4 = {}\n",
    "for i in filtered_list3:\n",
    "    molecule = new_client.molecule\n",
    "    mols1 = molecule.filter(pref_name = i.title()).only('molecule_chembl_id')\n",
    "    mols2 = molecule.filter(molecule_synonyms__molecule_synonym = i.title()).only('molecule_chembl_id')\n",
    "    mols3 = molecule.filter(molecule_synonyms__synonyms = i.title()).only('molecule_chembl_id')\n",
    "    if len(mols1) > 0:\n",
    "        n_chemb4.update({i : mols1[0][\"molecule_chembl_id\"]})\n",
    "    elif len(mols2) > 0:\n",
    "        n_chemb4.update({i : mols2[0][\"molecule_chembl_id\"]})\n",
    "    elif len(mols3) > 0:\n",
    "        n_chemb4.update({i : mols3[0][\"molecule_chembl_id\"]})\n",
    "    else:\n",
    "        n_chemb4.update({i : \":(\"})"
   ]
  },
  {
   "cell_type": "code",
   "execution_count": 131,
   "id": "b688cb93-8503-4b78-939d-4975064ef119",
   "metadata": {},
   "outputs": [],
   "source": [
    "filtered_chembl4 = dict(filter(my_filtering_function, n_chemb4.items()))"
   ]
  },
  {
   "cell_type": "code",
   "execution_count": 132,
   "id": "08a7f47a-c656-4273-bd27-c9c7b1afd516",
   "metadata": {},
   "outputs": [
    {
     "ename": "SyntaxError",
     "evalue": "unexpected EOF while parsing (1226997624.py, line 1)",
     "output_type": "error",
     "traceback": [
      "\u001b[0;36m  Cell \u001b[0;32mIn[132], line 1\u001b[0;36m\u001b[0m\n\u001b[0;31m    ln(filtered_chembl4\u001b[0m\n\u001b[0m                       ^\u001b[0m\n\u001b[0;31mSyntaxError\u001b[0m\u001b[0;31m:\u001b[0m unexpected EOF while parsing\n"
     ]
    }
   ],
   "source": [
    "ln(filtered_chembl4"
   ]
  },
  {
   "cell_type": "markdown",
   "id": "7f32bdbe-2449-465f-bf30-a5e6c0a893ab",
   "metadata": {},
   "source": [
    "## Transform results to work in R"
   ]
  },
  {
   "cell_type": "code",
   "execution_count": 134,
   "id": "46d0db7d-5e35-45dc-bc06-452d6e6e6af4",
   "metadata": {},
   "outputs": [],
   "source": [
    "def return_chembls(pair):\n",
    "    unwanted_value = ':('\n",
    "    key, value = pair\n",
    "    if value == unwanted_value:\n",
    "        return False  # filter pair out of the dictionary\n",
    "    else:\n",
    "        return True  # keep pair in the filtered dictionary\n",
    " "
   ]
  },
  {
   "cell_type": "code",
   "execution_count": 138,
   "id": "756989ee-bf72-41f3-a6f0-7371728733dd",
   "metadata": {},
   "outputs": [],
   "source": [
    "df_1 = pd.DataFrame.from_dict(\n",
    "    dict(filter(return_chembls, n_chemb1.items())),orient = 'index')\n",
    "df_2 = pd.DataFrame.from_dict(\n",
    "    dict(filter(return_chembls, n_chemb2.items())),orient = 'index')\n",
    "df_3 = pd.DataFrame.from_dict(\n",
    "    dict(filter(return_chembls, n_chemb3.items())),orient = 'index')\n",
    "df_4 = pd.DataFrame.from_dict(\n",
    "    dict(filter(return_chembls, n_chemb4.items())),orient = 'index')\n",
    "\n",
    "df_total = pd.concat([df_1,df_2,df_3,df_4])"
   ]
  },
  {
   "cell_type": "code",
   "execution_count": 137,
   "id": "fec6eecf-47a7-44e8-92c7-2c8bcd8a997d",
   "metadata": {},
   "outputs": [
    {
     "data": {
      "text/html": [
       "<div>\n",
       "<style scoped>\n",
       "    .dataframe tbody tr th:only-of-type {\n",
       "        vertical-align: middle;\n",
       "    }\n",
       "\n",
       "    .dataframe tbody tr th {\n",
       "        vertical-align: top;\n",
       "    }\n",
       "\n",
       "    .dataframe thead th {\n",
       "        text-align: right;\n",
       "    }\n",
       "</style>\n",
       "<table border=\"1\" class=\"dataframe\">\n",
       "  <thead>\n",
       "    <tr style=\"text-align: right;\">\n",
       "      <th></th>\n",
       "      <th>0</th>\n",
       "    </tr>\n",
       "  </thead>\n",
       "  <tbody>\n",
       "    <tr>\n",
       "      <th>Bleomycin</th>\n",
       "      <td>CHEMBL403664</td>\n",
       "    </tr>\n",
       "    <tr>\n",
       "      <th>Romidepsin</th>\n",
       "      <td>CHEMBL343448</td>\n",
       "    </tr>\n",
       "    <tr>\n",
       "      <th>glutathione</th>\n",
       "      <td>CHEMBL1543</td>\n",
       "    </tr>\n",
       "    <tr>\n",
       "      <th>Vincristine</th>\n",
       "      <td>CHEMBL90555</td>\n",
       "    </tr>\n",
       "    <tr>\n",
       "      <th>4</th>\n",
       "      <td>CHEMBL4526637</td>\n",
       "    </tr>\n",
       "    <tr>\n",
       "      <th>...</th>\n",
       "      <td>...</td>\n",
       "    </tr>\n",
       "    <tr>\n",
       "      <th>alpha-lipoic acid</th>\n",
       "      <td>CHEMBL33864</td>\n",
       "    </tr>\n",
       "    <tr>\n",
       "      <th>Mirin</th>\n",
       "      <td>CHEMBL570841</td>\n",
       "    </tr>\n",
       "    <tr>\n",
       "      <th>Staurosporine</th>\n",
       "      <td>CHEMBL388978</td>\n",
       "    </tr>\n",
       "    <tr>\n",
       "      <th>5-Fluorouracil</th>\n",
       "      <td>CHEMBL185</td>\n",
       "    </tr>\n",
       "    <tr>\n",
       "      <th>RO-3306</th>\n",
       "      <td>CHEMBL261644</td>\n",
       "    </tr>\n",
       "  </tbody>\n",
       "</table>\n",
       "<p>146 rows × 1 columns</p>\n",
       "</div>"
      ],
      "text/plain": [
       "                               0\n",
       "Bleomycin           CHEMBL403664\n",
       "Romidepsin          CHEMBL343448\n",
       "glutathione           CHEMBL1543\n",
       "Vincristine          CHEMBL90555\n",
       "4                  CHEMBL4526637\n",
       "...                          ...\n",
       "alpha-lipoic acid    CHEMBL33864\n",
       "Mirin               CHEMBL570841\n",
       "Staurosporine       CHEMBL388978\n",
       "5-Fluorouracil         CHEMBL185\n",
       "RO-3306             CHEMBL261644\n",
       "\n",
       "[146 rows x 1 columns]"
      ]
     },
     "execution_count": 137,
     "metadata": {},
     "output_type": "execute_result"
    }
   ],
   "source": [
    "df_total"
   ]
  },
  {
   "cell_type": "code",
   "execution_count": 140,
   "id": "0145fa54-41f2-42e0-a7ff-9768ee63fa52",
   "metadata": {},
   "outputs": [],
   "source": [
    "pd.DataFrame.to_csv(df_total,'output/chemblids_df_python_gdsc2.csv')\n"
   ]
  },
  {
   "cell_type": "code",
   "execution_count": 141,
   "id": "5c465110-7071-416a-bde9-093854ca22a0",
   "metadata": {},
   "outputs": [],
   "source": [
    "chembl_id = df_total[0].tolist()"
   ]
  },
  {
   "cell_type": "code",
   "execution_count": 72,
   "id": "e0e474f6-f0d2-42e9-b80c-13e955ef69df",
   "metadata": {},
   "outputs": [
    {
     "data": {
      "text/plain": [
       "1129"
      ]
     },
     "execution_count": 72,
     "metadata": {},
     "output_type": "execute_result"
    }
   ],
   "source": [
    "len(np.unique(chembl_id))"
   ]
  },
  {
   "cell_type": "code",
   "execution_count": 142,
   "id": "8cb7a04b-60ff-4cab-9904-baecd9cfaffb",
   "metadata": {},
   "outputs": [],
   "source": [
    "MOAs = {}"
   ]
  },
  {
   "cell_type": "code",
   "execution_count": 143,
   "id": "886e1a98-3d5d-4046-873e-598df7f91b0a",
   "metadata": {},
   "outputs": [],
   "source": [
    "MOAs = {}\n",
    "for i in chembl_id:\n",
    "    mechanism = new_client.mechanism\n",
    "    mols = mechanism.filter(molecule_chembl_id = i).only('mechanism_of_action')\n",
    "    l = []\n",
    "    if len(mols) > 0:\n",
    "        for j in range(0,len(mols)):\n",
    "            l.append((mols[j]['mechanism_of_action']))\n",
    "            s = ', '.join(map(str, l))\n",
    "            MOAs.update({i : s})\n",
    "    else:\n",
    "        MOAs.update({i : \":(\"})"
   ]
  },
  {
   "cell_type": "code",
   "execution_count": 144,
   "id": "d1bb4b31-2ffc-42e6-8317-128d687f3ddc",
   "metadata": {},
   "outputs": [
    {
     "data": {
      "text/plain": [
       "143"
      ]
     },
     "execution_count": 144,
     "metadata": {},
     "output_type": "execute_result"
    }
   ],
   "source": [
    "len(MOAs)"
   ]
  },
  {
   "cell_type": "code",
   "execution_count": 145,
   "id": "cf7f60df-8f32-4cfe-b4e7-41da6768edf6",
   "metadata": {},
   "outputs": [],
   "source": [
    "definition_chembl = {}\n",
    "for i in chembl_id:\n",
    "    molecule = new_client.molecule\n",
    "    mols = molecule.filter(molecule_chembl_id = i).only('usan_stem_definition')\n",
    "    if len(mols) > 0:\n",
    "        definition_chembl.update({i : mols[0][\"usan_stem_definition\"]})\n",
    "    else:\n",
    "        definition_chembl.update({i : \":(\"})"
   ]
  },
  {
   "cell_type": "code",
   "execution_count": 146,
   "id": "81084743-d361-440b-a4d2-f3885810541d",
   "metadata": {},
   "outputs": [],
   "source": [
    "df_moas_1 = pd.DataFrame.from_dict(MOAs,orient = 'index')\n",
    "df_moas_2 = pd.DataFrame.from_dict(definition_chembl,orient = 'index')"
   ]
  },
  {
   "cell_type": "code",
   "execution_count": 147,
   "id": "4d3fc3ab-faa3-4735-bac7-3a46da708b35",
   "metadata": {},
   "outputs": [],
   "source": [
    "moas_df  = pd.concat([df_moas_1, df_moas_2], axis=1)"
   ]
  },
  {
   "cell_type": "code",
   "execution_count": 150,
   "id": "74a84cf5-1869-4031-b9f8-e1ab8bc67a81",
   "metadata": {},
   "outputs": [
    {
     "data": {
      "text/plain": [
       "[':(',\n",
       " 'Histone deacetylase inhibitor',\n",
       " ':(',\n",
       " ':(',\n",
       " ':(',\n",
       " ':(',\n",
       " 'Dual specificity mitogen-activated protein kinase kinase 1 inhibitor, Dual specificity mitogen-activated protein kinase kinase 2 inhibitor',\n",
       " 'Insulin-like growth factor I receptor inhibitor, Insulin receptor inhibitor',\n",
       " 'DNA topoisomerase II inhibitor',\n",
       " 'Estrogen receptor antagonist',\n",
       " ':(',\n",
       " 'Farnesyl diphosphate synthase inhibitor',\n",
       " 'Rho-associated protein kinase inhibitor, MAP kinase-activated protein kinase 2 inhibitor',\n",
       " 'DNA inhibitor',\n",
       " ':(',\n",
       " ':(',\n",
       " 'DNA inhibitor',\n",
       " ':(',\n",
       " ':(',\n",
       " 'DNA inhibitor',\n",
       " 'DNA inhibitor',\n",
       " ':(',\n",
       " ':(',\n",
       " ':(',\n",
       " \"Inosine-5'-monophosphate dehydrogenase (IMPDH) inhibitor\",\n",
       " ':(',\n",
       " 'Serine/threonine-protein kinase mTOR inhibitor',\n",
       " ':(',\n",
       " ':(',\n",
       " 'Glutathione reductase inhibitor, DNA inhibitor, RNA inhibitor',\n",
       " 'Heat shock protein HSP90 inhibitor',\n",
       " ':(',\n",
       " ':(',\n",
       " 'DNA topoisomerase I inhibitor',\n",
       " 'Serine/threonine-protein kinase Chk1 inhibitor',\n",
       " ':(',\n",
       " ':(',\n",
       " 'Serine/threonine-protein kinase PLK1 inhibitor',\n",
       " 'Apoptosis regulator Bcl-2 inhibitor, Apoptosis regulator Bcl-X inhibitor, Apoptosis regulator Bcl-W inhibitor, Induced myeloid leukemia cell differentiation protein Mcl-1 inhibitor, Bcl-2-related protein A1 inhibitor, Bcl-2-like protein 10 inhibitor',\n",
       " 'Receptor protein-tyrosine kinase erbB-2 inhibitor, Receptor tyrosine-protein kinase erbB-3 inhibitor, Epidermal growth factor receptor erbB1 inhibitor',\n",
       " ':(',\n",
       " 'Hepatocyte growth factor receptor inhibitor, ALK tyrosine kinase receptor inhibitor, EML4-ALK, NPM/ALK (Nucleophosmin/ALK tyrosine kinase receptor)',\n",
       " 'Insulin-like growth factor I receptor inhibitor, Insulin receptor inhibitor',\n",
       " 'Stem cell growth factor receptor inhibitor, Tyrosine-protein kinase receptor RET inhibitor, Vascular endothelial growth factor receptor inhibitor, Platelet-derived growth factor receptor inhibitor',\n",
       " 'Dual specificity mitogen-activated protein kinase kinase; MEK1/2 inhibitor',\n",
       " 'MAP kinase ERK1 inhibitor, MAP kinase ERK2 inhibitor',\n",
       " 'PARP 1, 2 and 3 inhibitor',\n",
       " 'Serine/threonine-protein kinase mTOR inhibitor, PI3-kinase class I inhibitor',\n",
       " 'Epidermal growth factor receptor erbB1 inhibitor',\n",
       " 'Tyrosine-protein kinase receptor FLT3 inhibitor, Tyrosine-protein kinase JAK2 inhibitor, Nerve growth factor receptor Trk-A inhibitor, Neurotrophic tyrosine kinase receptor type 2 inhibitor, NT-3 growth factor receptor inhibitor, Tyrosine-protein kinase receptor RET inhibitor',\n",
       " 'Dihydrofolate reductase inhibitor',\n",
       " 'MAP kinase p38 alpha inhibitor',\n",
       " 'Serine/threonine-protein kinase Chk1 inhibitor',\n",
       " 'NEDD8 activating enzyme inhibitor',\n",
       " ':(',\n",
       " 'PI3-kinase class I inhibitor',\n",
       " ':(',\n",
       " ':(',\n",
       " 'CRL4(CRBN) E3 ubiquitin ligase inhibitor',\n",
       " 'PARP 1, 2 and 3 inhibitor',\n",
       " 'Androgen Receptor antagonist',\n",
       " ':(',\n",
       " ':(',\n",
       " ':(',\n",
       " 'Serine/threonine-protein kinase Aurora-A inhibitor',\n",
       " 'Smoothened homolog inhibitor',\n",
       " 'Serine/threonine-protein kinase AKT inhibitor',\n",
       " 'Tyrosine-protein kinase BTK inhibitor',\n",
       " 'Serine/threonine-protein kinase WEE1 inhibitor',\n",
       " 'Bromodomain and extra-terminal motif (BET) inhibitor',\n",
       " 'Poly [ADP-ribose] polymerase 2 inhibitor, Poly [ADP-ribose] polymerase-1 inhibitor',\n",
       " 'Apoptosis regulator Bcl-2 inhibitor, Apoptosis regulator Bcl-X inhibitor, Apoptosis regulator Bcl-W inhibitor',\n",
       " ':(',\n",
       " 'Serine/threonine-protein kinase AKT inhibitor',\n",
       " ':(',\n",
       " 'Serine/threonine-protein kinase mTOR inhibitor',\n",
       " ':(',\n",
       " ':(',\n",
       " ':(',\n",
       " 'Tyrosine-protein kinase ABL inhibitor, Platelet-derived growth factor receptor beta inhibitor, Stem cell growth factor receptor inhibitor, Ephrin type-A receptor 2 inhibitor, SRC inhibitor, Bcr/Abl fusion protein',\n",
       " 'Tubulin inhibitor',\n",
       " '26S proteosome inhibitor',\n",
       " 'Dihydroorotate dehydrogenase inhibitor',\n",
       " ':(',\n",
       " 'Histone deacetylase inhibitor',\n",
       " 'Tyrosine-protein kinase receptor FLT3 inhibitor, Stem cell growth factor receptor inhibitor, Hepatocyte growth factor receptor inhibitor, Platelet-derived growth factor receptor inhibitor, Tyrosine-protein kinase TIE-2 inhibitor, Vascular endothelial growth factor receptor inhibitor',\n",
       " 'PI3-kinase class I inhibitor',\n",
       " 'Dual specificity mitogen-activated protein kinase kinase 1 inhibitor, Dual specificity mitogen-activated protein kinase kinase 2 inhibitor',\n",
       " 'Serine/threonine-protein kinase mTOR inhibitor',\n",
       " ':(',\n",
       " 'Retinoic acid receptor agonist',\n",
       " 'Cyclin-dependent kinase 4 inhibitor, Cyclin-dependent kinase 6 inhibitor',\n",
       " 'Poly [ADP-ribose] polymerase-1 inhibitor, Poly [ADP-ribose] polymerase 2 inhibitor',\n",
       " ':(',\n",
       " 'Serine/threonine-protein kinase AKT inhibitor',\n",
       " 'Gamma-secretase inhibitor',\n",
       " 'Cyclin-dependent kinase 1 inhibitor, Cyclin-dependent kinase 2 inhibitor, Cyclin-dependent kinase 5 inhibitor, Cyclin-dependent kinase 9 inhibitor',\n",
       " 'Probable protein-cysteine N-palmitoyltransferase porcupine inhibitor',\n",
       " 'Serine/threonine-protein kinase AKT inhibitor',\n",
       " 'Apoptosis regulator Bcl-2 inhibitor',\n",
       " 'PI3-kinase class I inhibitor',\n",
       " 'Fibroblast growth factor receptor inhibitor',\n",
       " 'Serine/threonine-protein kinase AKT inhibitor',\n",
       " ':(',\n",
       " 'PI3-kinase p110-beta subunit inhibitor, PI3-kinase p110-delta subunit inhibitor',\n",
       " 'Histone deacetylase 1 inhibitor, Histone deacetylase 3 inhibitor, Histone deacetylase 6 inhibitor, Histone deacetylase 2 inhibitor',\n",
       " ':(',\n",
       " 'Tyrosine-protein kinase ABL inhibitor, Tyrosine-protein kinase SRC inhibitor, Tyrosine-protein kinase HCK inhibitor, Tyrosine-protein kinase Lyn inhibitor, Bcr/Abl fusion protein',\n",
       " 'CDK6/cyclin D1 inhibitor, Cyclin-dependent kinase 4/cyclin D1 inhibitor',\n",
       " ':(',\n",
       " 'FK506-binding protein 1A inhibitor',\n",
       " 'DNA inhibitor',\n",
       " 'Serine-protein kinase ATR inhibitor',\n",
       " 'Serine/threonine-protein kinase Aurora inhibitor',\n",
       " 'PI3-kinase p110-alpha subunit inhibitor',\n",
       " 'Serine-protein kinase ATR inhibitor',\n",
       " 'Tyrosine-protein kinase SYK inhibitor',\n",
       " ':(',\n",
       " ':(',\n",
       " 'DNA inhibitor, RNA inhibitor, DNA polymerase (alpha/delta/epsilon) inhibitor',\n",
       " ':(',\n",
       " 'Vascular endothelial growth factor receptor inhibitor',\n",
       " 'Heat shock protein HSP90 inhibitor',\n",
       " 'PI3-kinase class I inhibitor',\n",
       " ':(',\n",
       " ':(',\n",
       " 'Hepatocyte growth factor receptor inhibitor',\n",
       " 'PI3-kinase p110-delta subunit inhibitor',\n",
       " 'Nicotinamide phosphoribosyltransferase inhibitor',\n",
       " 'FK506-binding protein 1A inhibitor',\n",
       " 'Epidermal growth factor receptor erbB1 inhibitor',\n",
       " 'Epidermal growth factor receptor erbB1 inhibitor',\n",
       " 'DNA inhibitor',\n",
       " ':(',\n",
       " 'PARP 1, 2 and 3 inhibitor',\n",
       " 'Stem cell growth factor receptor inhibitor, Platelet-derived growth factor receptor inhibitor, Vascular endothelial growth factor receptor inhibitor',\n",
       " 'Bromodomain and extra-terminal motif (BET) inhibitor',\n",
       " ':(',\n",
       " ':(',\n",
       " ':(',\n",
       " ':(',\n",
       " 'Thymidylate synthase inhibitor, DNA inhibitor, RNA inhibitor',\n",
       " ':(']"
      ]
     },
     "execution_count": 150,
     "metadata": {},
     "output_type": "execute_result"
    }
   ],
   "source": [
    "moas_df.columns = ['MOAs','definitions']\n",
    "moas_df['MOAs'].tolist()"
   ]
  },
  {
   "cell_type": "code",
   "execution_count": 149,
   "id": "e1e2b0e6-3daa-4868-943b-f62e7e51af62",
   "metadata": {},
   "outputs": [],
   "source": [
    "pd.DataFrame.to_csv(moas_df,'output/moas_df_python_gdsc.csv')"
   ]
  },
  {
   "cell_type": "code",
   "execution_count": 41,
   "id": "8e57edc9-02e9-4992-9f78-3e58be1dddab",
   "metadata": {},
   "outputs": [],
   "source": [
    "list_2 = druglist_all[\"synonyms\"].tolist()\n",
    "\n",
    "list_2 = [item for sublist in list_2 for item in sublist.split(', ')]\n",
    "list_2 = [item for item in list_2 if item != '-']"
   ]
  },
  {
   "cell_type": "code",
   "execution_count": 43,
   "id": "1c167b5f-a467-4f95-9acd-e93058d76690",
   "metadata": {},
   "outputs": [],
   "source": [
    "l2_chemb1 = {}"
   ]
  },
  {
   "cell_type": "code",
   "execution_count": 44,
   "id": "70c306ba-e5d8-4050-b4b0-eb9b7897179b",
   "metadata": {},
   "outputs": [],
   "source": [
    "for i in list_2:\n",
    "    molecule = new_client.molecule\n",
    "    mols1 = molecule.filter(pref_name = i.upper()).only('molecule_chembl_id')\n",
    "    mols2 = molecule.filter(molecule_synonyms__molecule_synonym = i.upper()).only('molecule_chembl_id')\n",
    "    mols3 = molecule.filter(molecule_synonyms__synonyms = i.upper()).only('molecule_chembl_id')\n",
    "    if len(mols1) > 0:\n",
    "        l2_chemb1.update({i : mols1[0][\"molecule_chembl_id\"]})\n",
    "    elif len(mols2) > 0:\n",
    "        l2_chemb1.update({i : mols2[0][\"molecule_chembl_id\"]})\n",
    "    elif len(mols3) > 0:\n",
    "        l2_chemb1.update({i : mols3[0][\"molecule_chembl_id\"]})\n",
    "    else:\n",
    "        l2_chemb1.update({i : \":(\"})"
   ]
  },
  {
   "cell_type": "code",
   "execution_count": 45,
   "id": "9d12b3b6-b27d-4121-adfc-e104f6f7dfb1",
   "metadata": {},
   "outputs": [],
   "source": [
    "def my_filtering_function(pair):\n",
    "    unwanted_value = ':('\n",
    "    key, value = pair\n",
    "    if value != unwanted_value:\n",
    "        return False  # filter pair out of the dictionary\n",
    "    else:\n",
    "        return True  # keep pair in the filtered dictionary"
   ]
  },
  {
   "cell_type": "code",
   "execution_count": 46,
   "id": "e30f4bfa-c720-48c8-994e-0016209f3320",
   "metadata": {},
   "outputs": [],
   "source": [
    "filtered_chembl1 = dict(filter(my_filtering_function, l2_chemb1.items()))"
   ]
  },
  {
   "cell_type": "code",
   "execution_count": 47,
   "id": "3f6cf2e0-4bf5-4728-9308-c4396e23024d",
   "metadata": {},
   "outputs": [],
   "source": [
    "filtered_list1 = list(filtered_chembl1.keys())"
   ]
  },
  {
   "cell_type": "code",
   "execution_count": 49,
   "id": "4bd3d636-b55d-48df-bd70-285b2c065cea",
   "metadata": {
    "scrolled": true
   },
   "outputs": [
    {
     "data": {
      "text/plain": [
       "240"
      ]
     },
     "execution_count": 49,
     "metadata": {},
     "output_type": "execute_result"
    }
   ],
   "source": [
    "len(filtered_list1)"
   ]
  },
  {
   "cell_type": "code",
   "execution_count": 50,
   "id": "a485b14b-d3d6-4574-8609-c7d1d9bea807",
   "metadata": {},
   "outputs": [],
   "source": [
    "l2_chemb2 = {}"
   ]
  },
  {
   "cell_type": "code",
   "execution_count": 51,
   "id": "4ffa4bca-a92e-4440-8f76-911341714cba",
   "metadata": {},
   "outputs": [],
   "source": [
    "for i in filtered_list1:\n",
    "    molecule = new_client.molecule\n",
    "    mols1 = molecule.filter(pref_name = i).only('molecule_chembl_id')\n",
    "    mols2 = molecule.filter(molecule_synonyms__molecule_synonym = i).only('molecule_chembl_id')\n",
    "    mols3 = molecule.filter(molecule_synonyms__synonyms = i).only('molecule_chembl_id')\n",
    "    if len(mols1) > 0:\n",
    "        l2_chemb2.update({i : mols1[0][\"molecule_chembl_id\"]})\n",
    "    elif len(mols2) > 0:\n",
    "        l2_chemb2.update({i : mols2[0][\"molecule_chembl_id\"]})\n",
    "    elif len(mols3) > 0:\n",
    "        l2_chemb2.update({i : mols3[0][\"molecule_chembl_id\"]})\n",
    "    else:\n",
    "        l2_chemb2.update({i : \":(\"})"
   ]
  },
  {
   "cell_type": "code",
   "execution_count": 53,
   "id": "7f7dd9bf-99db-4f1d-9bdb-118c907fe694",
   "metadata": {},
   "outputs": [],
   "source": [
    "filtered_chembl2 = dict(filter(my_filtering_function, l2_chemb2.items()))"
   ]
  },
  {
   "cell_type": "code",
   "execution_count": 1,
   "id": "aa67d8d8-2b11-4db9-89c5-7421051bcb43",
   "metadata": {},
   "outputs": [
    {
     "ename": "NameError",
     "evalue": "name 'l2_chemb2' is not defined",
     "output_type": "error",
     "traceback": [
      "\u001b[0;31m---------------------------------------------------------------------------\u001b[0m",
      "\u001b[0;31mNameError\u001b[0m                                 Traceback (most recent call last)",
      "Cell \u001b[0;32mIn[1], line 1\u001b[0m\n\u001b[0;32m----> 1\u001b[0m \u001b[43ml2_chemb2\u001b[49m\n",
      "\u001b[0;31mNameError\u001b[0m: name 'l2_chemb2' is not defined"
     ]
    }
   ],
   "source": [
    "l2_chemb2"
   ]
  }
 ],
 "metadata": {
  "kernelspec": {
   "display_name": "Python 3 (ipykernel)",
   "language": "python",
   "name": "python3"
  },
  "language_info": {
   "codemirror_mode": {
    "name": "ipython",
    "version": 3
   },
   "file_extension": ".py",
   "mimetype": "text/x-python",
   "name": "python",
   "nbconvert_exporter": "python",
   "pygments_lexer": "ipython3",
   "version": "3.8.10"
  }
 },
 "nbformat": 4,
 "nbformat_minor": 5
}
