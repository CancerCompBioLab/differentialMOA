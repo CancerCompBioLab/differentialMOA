{
 "cells": [
  {
   "cell_type": "code",
   "execution_count": null,
   "id": "44f86fd4-067a-4bd6-9ee5-0b1d0544ad11",
   "metadata": {},
   "outputs": [],
   "source": [
    "# pip install chembl_webresource_client"
   ]
  },
  {
   "cell_type": "markdown",
   "id": "e8898ce9-1097-4b04-ad54-fe1ece9d6f1c",
   "metadata": {
    "jupyter": {
     "source_hidden": true
    }
   },
   "source": [
    "## Import packages\n",
    "The chembl_webresource package should contain the tools to obtain the chEMBL IDs and mechanisms."
   ]
  },
  {
   "cell_type": "code",
   "execution_count": 1,
   "id": "7229a42b-7163-4af3-9dae-0afa6b64b79d",
   "metadata": {},
   "outputs": [],
   "source": [
    "from chembl_webresource_client.new_client import new_client\n",
    "import pandas as pd\n",
    "import numpy as np"
   ]
  },
  {
   "cell_type": "markdown",
   "id": "6d2502d1-9241-41b5-aff1-a64cfa442be8",
   "metadata": {},
   "source": [
    "#### Load the list of drugs"
   ]
  },
  {
   "cell_type": "code",
   "execution_count": 2,
   "id": "36a104d3-92f6-458e-ae51-5cbe5bbac7cc",
   "metadata": {},
   "outputs": [],
   "source": [
    "druglist_all = pd.read_csv(\"output/drugslist.csv\")"
   ]
  },
  {
   "cell_type": "code",
   "execution_count": 3,
   "id": "46bd5964-ca34-4628-918f-bafa2b768a92",
   "metadata": {},
   "outputs": [],
   "source": [
    "list_1 = druglist_all[\".\"].tolist()"
   ]
  },
  {
   "cell_type": "markdown",
   "id": "abfa894a-e1d2-40a6-85e0-39ede99151cc",
   "metadata": {},
   "source": [
    "#### chEMBL IDs retrival\n",
    "**1st round**, the chembl using the 'names' as 'upper case' they appear in the PRISM database, lookig all synonyms and oprefered names."
   ]
  },
  {
   "cell_type": "code",
   "execution_count": 4,
   "id": "f13e4700-8924-4d1d-a4d2-b3b879b9be9c",
   "metadata": {},
   "outputs": [],
   "source": [
    "n_chemb1 = {}"
   ]
  },
  {
   "cell_type": "code",
   "execution_count": 6,
   "id": "8cde31f5-782b-4f77-837d-40d4a11f83af",
   "metadata": {},
   "outputs": [],
   "source": [
    "for i in list_1:\n",
    "    molecule = new_client.molecule\n",
    "    mols1 = molecule.filter(pref_name = i.upper()).only('molecule_chembl_id')\n",
    "    mols2 = molecule.filter(molecule_synonyms__molecule_synonym = i.upper()).only('molecule_chembl_id')\n",
    "    mols3 = molecule.filter(molecule_synonyms__synonyms = i.upper()).only('molecule_chembl_id')\n",
    "    if len(mols1) > 0:\n",
    "        n_chemb1.update({i : mols1[0][\"molecule_chembl_id\"]})\n",
    "    elif len(mols2) > 0:\n",
    "        n_chemb1.update({i : mols2[0][\"molecule_chembl_id\"]})\n",
    "    elif len(mols3) > 0:\n",
    "        n_chemb1.update({i : mols3[0][\"molecule_chembl_id\"]})\n",
    "    else:\n",
    "        n_chemb1.update({i : \":(\"})"
   ]
  },
  {
   "cell_type": "code",
   "execution_count": 7,
   "id": "1fc82fbe-5c95-4edd-a29e-cd1d6573af62",
   "metadata": {},
   "outputs": [],
   "source": [
    "def my_filtering_function(pair):\n",
    "    unwanted_value = ':('\n",
    "    key, value = pair\n",
    "    if value != unwanted_value:\n",
    "        return False  # filter pair out of the dictionary\n",
    "    else:\n",
    "        return True  # keep pair in the filtered dictionary"
   ]
  },
  {
   "cell_type": "code",
   "execution_count": 8,
   "id": "3322163d-c803-4150-b529-61999dffad3a",
   "metadata": {},
   "outputs": [],
   "source": [
    "filtered_chembl1 = dict(filter(my_filtering_function, n_chemb1.items()))"
   ]
  },
  {
   "cell_type": "code",
   "execution_count": 9,
   "id": "60f576d1-2c2d-4aed-8bfe-f476ba0ba07b",
   "metadata": {},
   "outputs": [],
   "source": [
    "filtered_list1 = list(filtered_chembl1.keys())"
   ]
  },
  {
   "cell_type": "code",
   "execution_count": 10,
   "id": "7d95449d-d55b-43e0-a1d8-2159e6219c33",
   "metadata": {},
   "outputs": [
    {
     "data": {
      "text/plain": [
       "412"
      ]
     },
     "execution_count": 10,
     "metadata": {},
     "output_type": "execute_result"
    }
   ],
   "source": [
    "len(filtered_list1)"
   ]
  },
  {
   "cell_type": "markdown",
   "id": "2e9d9450-9037-48e2-b66f-d6f94b185f0d",
   "metadata": {},
   "source": [
    "**2nd round:** Same but with the original names without transfoming to upper"
   ]
  },
  {
   "cell_type": "code",
   "execution_count": 11,
   "id": "246f6312-3240-4a72-9190-fa1a2df00db0",
   "metadata": {},
   "outputs": [],
   "source": [
    "n_chemb2 = {}"
   ]
  },
  {
   "cell_type": "code",
   "execution_count": 13,
   "id": "b186974a-a33d-47e7-9d3e-631ac2b7b01c",
   "metadata": {},
   "outputs": [],
   "source": [
    "for i in filtered_list1:\n",
    "    molecule = new_client.molecule\n",
    "    mols1 = molecule.filter(pref_name = i).only('molecule_chembl_id')\n",
    "    mols2 = molecule.filter(molecule_synonyms__molecule_synonym = i).only('molecule_chembl_id')\n",
    "    mols3 = molecule.filter(molecule_synonyms__synonyms = i).only('molecule_chembl_id')\n",
    "    if len(mols1) > 0:\n",
    "        n_chemb2.update({i : mols1[0][\"molecule_chembl_id\"]})\n",
    "    elif len(mols2) > 0:\n",
    "        n_chemb2.update({i : mols2[0][\"molecule_chembl_id\"]})\n",
    "    elif len(mols3) > 0:\n",
    "        n_chemb2.update({i : mols3[0][\"molecule_chembl_id\"]})\n",
    "    else:\n",
    "        n_chemb2.update({i : \":(\"})"
   ]
  },
  {
   "cell_type": "code",
   "execution_count": 14,
   "id": "90caa5a0-0216-457c-833a-4343323e660f",
   "metadata": {},
   "outputs": [],
   "source": [
    "filtered_chembl2 = dict(filter(my_filtering_function, n_chemb2.items()))"
   ]
  },
  {
   "cell_type": "code",
   "execution_count": 15,
   "id": "f168542e-b47b-4ddc-9b73-8a4bf5b112e0",
   "metadata": {},
   "outputs": [],
   "source": [
    "filtered_list2 = list(filtered_chembl2.keys())"
   ]
  },
  {
   "cell_type": "code",
   "execution_count": 16,
   "id": "4a45de52-7088-45f9-8467-cfbf7c375a0f",
   "metadata": {},
   "outputs": [
    {
     "data": {
      "text/plain": [
       "408"
      ]
     },
     "execution_count": 16,
     "metadata": {},
     "output_type": "execute_result"
    }
   ],
   "source": [
    "len(filtered_list2)"
   ]
  },
  {
   "cell_type": "markdown",
   "id": "e36084e2-1fca-4301-871e-9db75546b73f",
   "metadata": {},
   "source": [
    "**Round 3**: change presence of  '-'  character"
   ]
  },
  {
   "cell_type": "code",
   "execution_count": 17,
   "id": "b7aedc46-f5ee-4eba-8997-d105710fd9f9",
   "metadata": {},
   "outputs": [],
   "source": [
    "n_chemb3 = {}"
   ]
  },
  {
   "cell_type": "code",
   "execution_count": 18,
   "id": "3bc6200f-67bc-4e22-b85d-556f6de01900",
   "metadata": {},
   "outputs": [],
   "source": [
    "for i in filtered_list2:\n",
    "    molecule = new_client.molecule\n",
    "    mols1 = molecule.filter(pref_name = i.replace('-', ' ').upper()).only('molecule_chembl_id')\n",
    "    mols2 = molecule.filter(molecule_synonyms__molecule_synonym = i.replace('-', ' ').upper()).only('molecule_chembl_id')\n",
    "    mols3 = molecule.filter(molecule_synonyms__synonyms = i.replace('-', ' ').upper()).only('molecule_chembl_id')\n",
    "    if len(mols1) > 0:\n",
    "        n_chemb3.update({i : mols1[0][\"molecule_chembl_id\"]})\n",
    "    elif len(mols2) > 0:\n",
    "        n_chemb3.update({i : mols2[0][\"molecule_chembl_id\"]})\n",
    "    elif len(mols3) > 0:\n",
    "        n_chemb3.update({i : mols3[0][\"molecule_chembl_id\"]})\n",
    "    else:\n",
    "        n_chemb3.update({i : \":(\"})"
   ]
  },
  {
   "cell_type": "code",
   "execution_count": 19,
   "id": "dc7be089-a431-4f57-bdfd-e9e88767c7da",
   "metadata": {},
   "outputs": [],
   "source": [
    "filtered_chembl3 = dict(filter(my_filtering_function, n_chemb3.items()))"
   ]
  },
  {
   "cell_type": "code",
   "execution_count": 20,
   "id": "7bfe2d9b-f8ea-4b10-99f8-a8fdaf4b15f9",
   "metadata": {},
   "outputs": [],
   "source": [
    "filtered_list3 = list(filtered_chembl3.keys())"
   ]
  },
  {
   "cell_type": "code",
   "execution_count": 21,
   "id": "a7a50809-c8d3-4a2c-be37-03ad45eb39f6",
   "metadata": {},
   "outputs": [
    {
     "data": {
      "text/plain": [
       "322"
      ]
     },
     "execution_count": 21,
     "metadata": {},
     "output_type": "execute_result"
    }
   ],
   "source": [
    "len(filtered_list3)"
   ]
  },
  {
   "cell_type": "markdown",
   "id": "ee1a3fe8-dbed-4adc-a07d-bb5882b3118d",
   "metadata": {},
   "source": [
    "**Round 4**: change and add uppercases at the beginning"
   ]
  },
  {
   "cell_type": "code",
   "execution_count": 23,
   "id": "871217be-09cb-44ea-9a64-6a18668614bb",
   "metadata": {},
   "outputs": [],
   "source": [
    "n_chemb4 = {}\n",
    "for i in filtered_list3:\n",
    "    molecule = new_client.molecule\n",
    "    mols1 = molecule.filter(pref_name = i.title()).only('molecule_chembl_id')\n",
    "    mols2 = molecule.filter(molecule_synonyms__molecule_synonym = i.title()).only('molecule_chembl_id')\n",
    "    mols3 = molecule.filter(molecule_synonyms__synonyms = i.title()).only('molecule_chembl_id')\n",
    "    if len(mols1) > 0:\n",
    "        n_chemb4.update({i : mols1[0][\"molecule_chembl_id\"]})\n",
    "    elif len(mols2) > 0:\n",
    "        n_chemb4.update({i : mols2[0][\"molecule_chembl_id\"]})\n",
    "    elif len(mols3) > 0:\n",
    "        n_chemb4.update({i : mols3[0][\"molecule_chembl_id\"]})\n",
    "    else:\n",
    "        n_chemb4.update({i : \":(\"})"
   ]
  },
  {
   "cell_type": "code",
   "execution_count": 24,
   "id": "b688cb93-8503-4b78-939d-4975064ef119",
   "metadata": {},
   "outputs": [],
   "source": [
    "filtered_chembl4 = dict(filter(my_filtering_function, n_chemb4.items()))"
   ]
  },
  {
   "cell_type": "markdown",
   "id": "7f32bdbe-2449-465f-bf30-a5e6c0a893ab",
   "metadata": {},
   "source": [
    "## Transform results to work in R"
   ]
  },
  {
   "cell_type": "code",
   "execution_count": 27,
   "id": "46d0db7d-5e35-45dc-bc06-452d6e6e6af4",
   "metadata": {},
   "outputs": [],
   "source": [
    "def return_chembls(pair):\n",
    "    unwanted_value = ':('\n",
    "    key, value = pair\n",
    "    if value == unwanted_value:\n",
    "        return False  # filter pair out of the dictionary\n",
    "    else:\n",
    "        return True  # keep pair in the filtered dictionary\n",
    " "
   ]
  },
  {
   "cell_type": "code",
   "execution_count": 62,
   "id": "756989ee-bf72-41f3-a6f0-7371728733dd",
   "metadata": {},
   "outputs": [],
   "source": [
    "df_1 = pd.DataFrame.from_dict(\n",
    "    dict(filter(return_chembls, n_chemb1.items())),orient = 'index')\n",
    "df_2 = pd.DataFrame.from_dict(\n",
    "    dict(filter(return_chembls, n_chemb2.items())),orient = 'index')\n",
    "df_3 = pd.DataFrame.from_dict(\n",
    "    dict(filter(return_chembls, n_chemb3.items())),orient = 'index')\n",
    "df_4 = pd.DataFrame.from_dict(\n",
    "    dict(filter(return_chembls, n_chemb4.items())),orient = 'index')\n",
    "\n",
    "df_total = pd.concat([df_1,df_2,df_3,df_4])"
   ]
  },
  {
   "cell_type": "code",
   "execution_count": 63,
   "id": "fec6eecf-47a7-44e8-92c7-2c8bcd8a997d",
   "metadata": {},
   "outputs": [
    {
     "data": {
      "text/html": [
       "<div>\n",
       "<style scoped>\n",
       "    .dataframe tbody tr th:only-of-type {\n",
       "        vertical-align: middle;\n",
       "    }\n",
       "\n",
       "    .dataframe tbody tr th {\n",
       "        vertical-align: top;\n",
       "    }\n",
       "\n",
       "    .dataframe thead th {\n",
       "        text-align: right;\n",
       "    }\n",
       "</style>\n",
       "<table border=\"1\" class=\"dataframe\">\n",
       "  <thead>\n",
       "    <tr style=\"text-align: right;\">\n",
       "      <th></th>\n",
       "      <th>0</th>\n",
       "    </tr>\n",
       "  </thead>\n",
       "  <tbody>\n",
       "    <tr>\n",
       "      <th>ribociclib</th>\n",
       "      <td>CHEMBL3545110</td>\n",
       "    </tr>\n",
       "    <tr>\n",
       "      <th>bortezomib</th>\n",
       "      <td>CHEMBL325041</td>\n",
       "    </tr>\n",
       "    <tr>\n",
       "      <th>linifanib</th>\n",
       "      <td>CHEMBL223360</td>\n",
       "    </tr>\n",
       "    <tr>\n",
       "      <th>dovitinib</th>\n",
       "      <td>CHEMBL522892</td>\n",
       "    </tr>\n",
       "    <tr>\n",
       "      <th>canertinib</th>\n",
       "      <td>CHEMBL31965</td>\n",
       "    </tr>\n",
       "    <tr>\n",
       "      <th>...</th>\n",
       "      <td>...</td>\n",
       "    </tr>\n",
       "    <tr>\n",
       "      <th>5-fluorouracil</th>\n",
       "      <td>CHEMBL185</td>\n",
       "    </tr>\n",
       "    <tr>\n",
       "      <th>se-methylselenocysteine</th>\n",
       "      <td>CHEMBL62382</td>\n",
       "    </tr>\n",
       "    <tr>\n",
       "      <th>skepinone-l</th>\n",
       "      <td>CHEMBL2152944</td>\n",
       "    </tr>\n",
       "    <tr>\n",
       "      <th>oncrasin-1</th>\n",
       "      <td>CHEMBL1775048</td>\n",
       "    </tr>\n",
       "    <tr>\n",
       "      <th>1-phenylbiguanide</th>\n",
       "      <td>CHEMBL13791</td>\n",
       "    </tr>\n",
       "  </tbody>\n",
       "</table>\n",
       "<p>1133 rows × 1 columns</p>\n",
       "</div>"
      ],
      "text/plain": [
       "                                     0\n",
       "ribociclib               CHEMBL3545110\n",
       "bortezomib                CHEMBL325041\n",
       "linifanib                 CHEMBL223360\n",
       "dovitinib                 CHEMBL522892\n",
       "canertinib                 CHEMBL31965\n",
       "...                                ...\n",
       "5-fluorouracil               CHEMBL185\n",
       "se-methylselenocysteine    CHEMBL62382\n",
       "skepinone-l              CHEMBL2152944\n",
       "oncrasin-1               CHEMBL1775048\n",
       "1-phenylbiguanide          CHEMBL13791\n",
       "\n",
       "[1133 rows x 1 columns]"
      ]
     },
     "execution_count": 63,
     "metadata": {},
     "output_type": "execute_result"
    }
   ],
   "source": [
    "df_total"
   ]
  },
  {
   "cell_type": "code",
   "execution_count": 64,
   "id": "0145fa54-41f2-42e0-a7ff-9768ee63fa52",
   "metadata": {},
   "outputs": [],
   "source": [
    "pd.DataFrame.to_csv(df_total,'output/chemblids_df_python.csv')\n"
   ]
  },
  {
   "cell_type": "code",
   "execution_count": 65,
   "id": "5c465110-7071-416a-bde9-093854ca22a0",
   "metadata": {},
   "outputs": [],
   "source": [
    "chembl_id = df_total[0].tolist()"
   ]
  },
  {
   "cell_type": "code",
   "execution_count": 72,
   "id": "e0e474f6-f0d2-42e9-b80c-13e955ef69df",
   "metadata": {},
   "outputs": [
    {
     "data": {
      "text/plain": [
       "1129"
      ]
     },
     "execution_count": 72,
     "metadata": {},
     "output_type": "execute_result"
    }
   ],
   "source": [
    "len(np.unique(chembl_id))"
   ]
  },
  {
   "cell_type": "code",
   "execution_count": 66,
   "id": "8cb7a04b-60ff-4cab-9904-baecd9cfaffb",
   "metadata": {},
   "outputs": [],
   "source": [
    "MOAs = {}"
   ]
  },
  {
   "cell_type": "code",
   "execution_count": 67,
   "id": "886e1a98-3d5d-4046-873e-598df7f91b0a",
   "metadata": {},
   "outputs": [],
   "source": [
    "MOAs = {}\n",
    "for i in chembl_id:\n",
    "    mechanism = new_client.mechanism\n",
    "    mols = mechanism.filter(molecule_chembl_id = i).only('mechanism_of_action')\n",
    "    l = []\n",
    "    if len(mols) > 0:\n",
    "        for j in range(0,len(mols)):\n",
    "            l.append((mols[j]['mechanism_of_action']))\n",
    "            s = ', '.join(map(str, l))\n",
    "            MOAs.update({i : s})\n",
    "    else:\n",
    "        MOAs.update({i : \":(\"})"
   ]
  },
  {
   "cell_type": "code",
   "execution_count": 68,
   "id": "d1bb4b31-2ffc-42e6-8317-128d687f3ddc",
   "metadata": {},
   "outputs": [
    {
     "data": {
      "text/plain": [
       "1129"
      ]
     },
     "execution_count": 68,
     "metadata": {},
     "output_type": "execute_result"
    }
   ],
   "source": [
    "len(MOAs)"
   ]
  },
  {
   "cell_type": "code",
   "execution_count": 73,
   "id": "cf7f60df-8f32-4cfe-b4e7-41da6768edf6",
   "metadata": {},
   "outputs": [],
   "source": [
    "definition_chembl = {}\n",
    "for i in chembl_id:\n",
    "    molecule = new_client.molecule\n",
    "    mols = molecule.filter(molecule_chembl_id = i).only('usan_stem_definition')\n",
    "    if len(mols) > 0:\n",
    "        definition_chembl.update({i : mols[0][\"usan_stem_definition\"]})\n",
    "    else:\n",
    "        definition_chembl.update({i : \":(\"})"
   ]
  },
  {
   "cell_type": "code",
   "execution_count": 74,
   "id": "81084743-d361-440b-a4d2-f3885810541d",
   "metadata": {},
   "outputs": [],
   "source": [
    "df_moas_1 = pd.DataFrame.from_dict(MOAs,orient = 'index')\n",
    "df_moas_2 = pd.DataFrame.from_dict(definition_chembl,orient = 'index')"
   ]
  },
  {
   "cell_type": "code",
   "execution_count": 75,
   "id": "4d3fc3ab-faa3-4735-bac7-3a46da708b35",
   "metadata": {},
   "outputs": [],
   "source": [
    "moas_df  = pd.concat([df_moas_1, df_moas_2], axis=1)"
   ]
  },
  {
   "cell_type": "code",
   "execution_count": 76,
   "id": "74a84cf5-1869-4031-b9f8-e1ab8bc67a81",
   "metadata": {},
   "outputs": [
    {
     "data": {
      "text/html": [
       "<div>\n",
       "<style scoped>\n",
       "    .dataframe tbody tr th:only-of-type {\n",
       "        vertical-align: middle;\n",
       "    }\n",
       "\n",
       "    .dataframe tbody tr th {\n",
       "        vertical-align: top;\n",
       "    }\n",
       "\n",
       "    .dataframe thead th {\n",
       "        text-align: right;\n",
       "    }\n",
       "</style>\n",
       "<table border=\"1\" class=\"dataframe\">\n",
       "  <thead>\n",
       "    <tr style=\"text-align: right;\">\n",
       "      <th></th>\n",
       "      <th>MOAs</th>\n",
       "      <th>definitions</th>\n",
       "    </tr>\n",
       "  </thead>\n",
       "  <tbody>\n",
       "    <tr>\n",
       "      <th>CHEMBL3545110</th>\n",
       "      <td>Cyclin-dependent kinase 4 inhibitor, Cyclin-de...</td>\n",
       "      <td>cyclin dependent kinase inhibitors (formerly-c...</td>\n",
       "    </tr>\n",
       "    <tr>\n",
       "      <th>CHEMBL325041</th>\n",
       "      <td>26S proteosome inhibitor</td>\n",
       "      <td>proteozome inhibitors</td>\n",
       "    </tr>\n",
       "    <tr>\n",
       "      <th>CHEMBL223360</th>\n",
       "      <td>Macrophage colony stimulating factor receptor ...</td>\n",
       "      <td>angiogenesis inhibitors</td>\n",
       "    </tr>\n",
       "    <tr>\n",
       "      <th>CHEMBL522892</th>\n",
       "      <td>Fibroblast growth factor receptor 3 inhibitor,...</td>\n",
       "      <td>tyrosine kinase inhibitors</td>\n",
       "    </tr>\n",
       "    <tr>\n",
       "      <th>CHEMBL31965</th>\n",
       "      <td>:(</td>\n",
       "      <td>tyrosine kinase inhibitors: epidermal growth f...</td>\n",
       "    </tr>\n",
       "    <tr>\n",
       "      <th>...</th>\n",
       "      <td>...</td>\n",
       "      <td>...</td>\n",
       "    </tr>\n",
       "    <tr>\n",
       "      <th>CHEMBL185</th>\n",
       "      <td>Thymidylate synthase inhibitor, DNA inhibitor,...</td>\n",
       "      <td>uracil type antineoplastics; uracil derivative...</td>\n",
       "    </tr>\n",
       "    <tr>\n",
       "      <th>CHEMBL62382</th>\n",
       "      <td>:(</td>\n",
       "      <td>None</td>\n",
       "    </tr>\n",
       "    <tr>\n",
       "      <th>CHEMBL2152944</th>\n",
       "      <td>:(</td>\n",
       "      <td>None</td>\n",
       "    </tr>\n",
       "    <tr>\n",
       "      <th>CHEMBL1775048</th>\n",
       "      <td>:(</td>\n",
       "      <td>None</td>\n",
       "    </tr>\n",
       "    <tr>\n",
       "      <th>CHEMBL13791</th>\n",
       "      <td>:(</td>\n",
       "      <td>None</td>\n",
       "    </tr>\n",
       "  </tbody>\n",
       "</table>\n",
       "<p>1129 rows × 2 columns</p>\n",
       "</div>"
      ],
      "text/plain": [
       "                                                            MOAs  \\\n",
       "CHEMBL3545110  Cyclin-dependent kinase 4 inhibitor, Cyclin-de...   \n",
       "CHEMBL325041                            26S proteosome inhibitor   \n",
       "CHEMBL223360   Macrophage colony stimulating factor receptor ...   \n",
       "CHEMBL522892   Fibroblast growth factor receptor 3 inhibitor,...   \n",
       "CHEMBL31965                                                   :(   \n",
       "...                                                          ...   \n",
       "CHEMBL185      Thymidylate synthase inhibitor, DNA inhibitor,...   \n",
       "CHEMBL62382                                                   :(   \n",
       "CHEMBL2152944                                                 :(   \n",
       "CHEMBL1775048                                                 :(   \n",
       "CHEMBL13791                                                   :(   \n",
       "\n",
       "                                                     definitions  \n",
       "CHEMBL3545110  cyclin dependent kinase inhibitors (formerly-c...  \n",
       "CHEMBL325041                               proteozome inhibitors  \n",
       "CHEMBL223360                             angiogenesis inhibitors  \n",
       "CHEMBL522892                          tyrosine kinase inhibitors  \n",
       "CHEMBL31965    tyrosine kinase inhibitors: epidermal growth f...  \n",
       "...                                                          ...  \n",
       "CHEMBL185      uracil type antineoplastics; uracil derivative...  \n",
       "CHEMBL62382                                                 None  \n",
       "CHEMBL2152944                                               None  \n",
       "CHEMBL1775048                                               None  \n",
       "CHEMBL13791                                                 None  \n",
       "\n",
       "[1129 rows x 2 columns]"
      ]
     },
     "execution_count": 76,
     "metadata": {},
     "output_type": "execute_result"
    }
   ],
   "source": [
    "moas_df.columns = ['MOAs','definitions']\n",
    "moas_df"
   ]
  },
  {
   "cell_type": "code",
   "execution_count": 77,
   "id": "e1e2b0e6-3daa-4868-943b-f62e7e51af62",
   "metadata": {},
   "outputs": [],
   "source": [
    "pd.DataFrame.to_csv(moas_df,'output/moas_df_python.csv')"
   ]
  },
  {
   "cell_type": "markdown",
   "id": "503c604d-f28a-4757-b7c4-bfb8ff0f04af",
   "metadata": {},
   "source": []
  }
 ],
 "metadata": {
  "kernelspec": {
   "display_name": "Python 3 (ipykernel)",
   "language": "python",
   "name": "python3"
  },
  "language_info": {
   "codemirror_mode": {
    "name": "ipython",
    "version": 3
   },
   "file_extension": ".py",
   "mimetype": "text/x-python",
   "name": "python",
   "nbconvert_exporter": "python",
   "pygments_lexer": "ipython3",
   "version": "3.8.10"
  }
 },
 "nbformat": 4,
 "nbformat_minor": 5
}
